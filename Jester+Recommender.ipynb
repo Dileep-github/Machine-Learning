{
 "cells": [
  {
   "cell_type": "code",
   "execution_count": 1,
   "metadata": {
    "collapsed": true
   },
   "outputs": [],
   "source": [
    "import numpy as np\n",
    "import pandas as pd\n",
    "from pandas.compat import StringIO"
   ]
  },
  {
   "cell_type": "code",
   "execution_count": 2,
   "metadata": {},
   "outputs": [
    {
     "data": {
      "text/plain": [
       "'/Users/viveksasikumar/Downloads/Python-Data-Science-and-Machine-Learning-Bootcamp/Machine Learning Sections/Recommender-Systems'"
      ]
     },
     "execution_count": 2,
     "metadata": {},
     "output_type": "execute_result"
    }
   ],
   "source": [
    "pwd"
   ]
  },
  {
   "cell_type": "code",
   "execution_count": 3,
   "metadata": {},
   "outputs": [
    {
     "data": {
      "text/plain": [
       "<_io.TextIOWrapper name='/Users/viveksasikumar/Downloads/jester_dataset_2/jester_ratings.dat' mode='r' encoding='UTF-8'>"
      ]
     },
     "execution_count": 3,
     "metadata": {},
     "output_type": "execute_result"
    }
   ],
   "source": [
    "d = open('/Users/viveksasikumar/Downloads/jester_dataset_2/jester_ratings.dat','r')\n",
    "d"
   ]
  },
  {
   "cell_type": "code",
   "execution_count": 4,
   "metadata": {},
   "outputs": [],
   "source": [
    "df = pd.read_csv(d,sep='\\s+', names= ['User Id', 'Item Id', 'Rating'])"
   ]
  },
  {
   "cell_type": "code",
   "execution_count": 5,
   "metadata": {},
   "outputs": [],
   "source": [
    "df.index =df['Item Id']"
   ]
  },
  {
   "cell_type": "code",
   "execution_count": 6,
   "metadata": {},
   "outputs": [
    {
     "data": {
      "text/html": [
       "<div>\n",
       "<style>\n",
       "    .dataframe thead tr:only-child th {\n",
       "        text-align: right;\n",
       "    }\n",
       "\n",
       "    .dataframe thead th {\n",
       "        text-align: left;\n",
       "    }\n",
       "\n",
       "    .dataframe tbody tr th {\n",
       "        vertical-align: top;\n",
       "    }\n",
       "</style>\n",
       "<table border=\"1\" class=\"dataframe\">\n",
       "  <thead>\n",
       "    <tr style=\"text-align: right;\">\n",
       "      <th></th>\n",
       "      <th>User Id</th>\n",
       "      <th>Item Id</th>\n",
       "      <th>Rating</th>\n",
       "    </tr>\n",
       "    <tr>\n",
       "      <th>Item Id</th>\n",
       "      <th></th>\n",
       "      <th></th>\n",
       "      <th></th>\n",
       "    </tr>\n",
       "  </thead>\n",
       "  <tbody>\n",
       "    <tr>\n",
       "      <th>5</th>\n",
       "      <td>1</td>\n",
       "      <td>5</td>\n",
       "      <td>0.219</td>\n",
       "    </tr>\n",
       "    <tr>\n",
       "      <th>7</th>\n",
       "      <td>1</td>\n",
       "      <td>7</td>\n",
       "      <td>-9.281</td>\n",
       "    </tr>\n",
       "    <tr>\n",
       "      <th>8</th>\n",
       "      <td>1</td>\n",
       "      <td>8</td>\n",
       "      <td>-9.281</td>\n",
       "    </tr>\n",
       "    <tr>\n",
       "      <th>13</th>\n",
       "      <td>1</td>\n",
       "      <td>13</td>\n",
       "      <td>-6.781</td>\n",
       "    </tr>\n",
       "    <tr>\n",
       "      <th>15</th>\n",
       "      <td>1</td>\n",
       "      <td>15</td>\n",
       "      <td>0.875</td>\n",
       "    </tr>\n",
       "  </tbody>\n",
       "</table>\n",
       "</div>"
      ],
      "text/plain": [
       "         User Id  Item Id  Rating\n",
       "Item Id                          \n",
       "5              1        5   0.219\n",
       "7              1        7  -9.281\n",
       "8              1        8  -9.281\n",
       "13             1       13  -6.781\n",
       "15             1       15   0.875"
      ]
     },
     "execution_count": 6,
     "metadata": {},
     "output_type": "execute_result"
    }
   ],
   "source": [
    "df.head()"
   ]
  },
  {
   "cell_type": "code",
   "execution_count": 7,
   "metadata": {},
   "outputs": [
    {
     "data": {
      "text/plain": [
       "<_io.TextIOWrapper name='/Users/viveksasikumar/Downloads/jester_dataset_2/jester_items.dat' mode='r' encoding='UTF-8'>"
      ]
     },
     "execution_count": 7,
     "metadata": {},
     "output_type": "execute_result"
    }
   ],
   "source": [
    "f = open('/Users/viveksasikumar/Downloads/jester_dataset_2/jester_items.dat','r')\n",
    "f"
   ]
  },
  {
   "cell_type": "code",
   "execution_count": 8,
   "metadata": {},
   "outputs": [
    {
     "name": "stderr",
     "output_type": "stream",
     "text": [
      "/Users/viveksasikumar/anaconda3/lib/python3.6/site-packages/ipykernel_launcher.py:3: DeprecationWarning: 'U' mode is deprecated\n",
      "  This is separate from the ipykernel package so we can avoid doing imports until\n"
     ]
    }
   ],
   "source": [
    "import re\n",
    "\n",
    "with open('/Users/viveksasikumar/Downloads/jester_dataset_2/jester_items.dat','rU') as joke_data:\n",
    "    joke_set = dict()\n",
    "    joke_list = joke_data.read().split('\\n\\n')\n",
    "    for joke in joke_list[0:150]:\n",
    "        joke = joke.replace('\\n','')\n",
    "        result = re.search(r'(\\d*?):(.*)', joke)\n",
    "        joke_set[int(result.group(1))] = result.group(2)\n",
    "        \n"
   ]
  },
  {
   "cell_type": "code",
   "execution_count": 9,
   "metadata": {},
   "outputs": [],
   "source": [
    "joke_set.keys()\n",
    "temp = []\n",
    "for key, value in joke_set.items():\n",
    "    aValue = value\n",
    "    temp.append(aValue)\n"
   ]
  },
  {
   "cell_type": "code",
   "execution_count": 10,
   "metadata": {},
   "outputs": [],
   "source": [
    "df2 = pd.DataFrame(data = temp,columns=['Joke'], index=joke_set.keys())"
   ]
  },
  {
   "cell_type": "code",
   "execution_count": 11,
   "metadata": {},
   "outputs": [
    {
     "data": {
      "text/html": [
       "<div>\n",
       "<style>\n",
       "    .dataframe thead tr:only-child th {\n",
       "        text-align: right;\n",
       "    }\n",
       "\n",
       "    .dataframe thead th {\n",
       "        text-align: left;\n",
       "    }\n",
       "\n",
       "    .dataframe tbody tr th {\n",
       "        vertical-align: top;\n",
       "    }\n",
       "</style>\n",
       "<table border=\"1\" class=\"dataframe\">\n",
       "  <thead>\n",
       "    <tr style=\"text-align: right;\">\n",
       "      <th></th>\n",
       "      <th>Joke</th>\n",
       "      <th>Item Id</th>\n",
       "    </tr>\n",
       "    <tr>\n",
       "      <th>Item Id</th>\n",
       "      <th></th>\n",
       "      <th></th>\n",
       "    </tr>\n",
       "  </thead>\n",
       "  <tbody>\n",
       "    <tr>\n",
       "      <th>1</th>\n",
       "      <td>&lt;p&gt;A man visits the doctor. The doctor says, &amp;...</td>\n",
       "      <td>1</td>\n",
       "    </tr>\n",
       "    <tr>\n",
       "      <th>2</th>\n",
       "      <td>&lt;p&gt;This couple had an excellent relationship g...</td>\n",
       "      <td>2</td>\n",
       "    </tr>\n",
       "    <tr>\n",
       "      <th>3</th>\n",
       "      <td>&lt;p&gt;Q. What&amp;#039;s 200 feet long and has 4 teet...</td>\n",
       "      <td>3</td>\n",
       "    </tr>\n",
       "    <tr>\n",
       "      <th>4</th>\n",
       "      <td>&lt;p&gt;Q. What&amp;#039;s the difference between a man...</td>\n",
       "      <td>4</td>\n",
       "    </tr>\n",
       "    <tr>\n",
       "      <th>5</th>\n",
       "      <td>&lt;p&gt;Q. What&amp;#039;s O. J. Simpson&amp;#039;s web add...</td>\n",
       "      <td>5</td>\n",
       "    </tr>\n",
       "  </tbody>\n",
       "</table>\n",
       "</div>"
      ],
      "text/plain": [
       "                                                      Joke  Item Id\n",
       "Item Id                                                            \n",
       "1        <p>A man visits the doctor. The doctor says, &...        1\n",
       "2        <p>This couple had an excellent relationship g...        2\n",
       "3        <p>Q. What&#039;s 200 feet long and has 4 teet...        3\n",
       "4        <p>Q. What&#039;s the difference between a man...        4\n",
       "5        <p>Q. What&#039;s O. J. Simpson&#039;s web add...        5"
      ]
     },
     "execution_count": 11,
     "metadata": {},
     "output_type": "execute_result"
    }
   ],
   "source": [
    "df2.index.name = 'Item Id'\n",
    "df2['Item Id'] = df2.index\n",
    "df2.head()"
   ]
  },
  {
   "cell_type": "code",
   "execution_count": 12,
   "metadata": {},
   "outputs": [],
   "source": [
    "df = pd.merge(df, df2, on='Item Id')"
   ]
  },
  {
   "cell_type": "code",
   "execution_count": 13,
   "metadata": {},
   "outputs": [
    {
     "data": {
      "text/html": [
       "<div>\n",
       "<style>\n",
       "    .dataframe thead tr:only-child th {\n",
       "        text-align: right;\n",
       "    }\n",
       "\n",
       "    .dataframe thead th {\n",
       "        text-align: left;\n",
       "    }\n",
       "\n",
       "    .dataframe tbody tr th {\n",
       "        vertical-align: top;\n",
       "    }\n",
       "</style>\n",
       "<table border=\"1\" class=\"dataframe\">\n",
       "  <thead>\n",
       "    <tr style=\"text-align: right;\">\n",
       "      <th></th>\n",
       "      <th>User Id</th>\n",
       "      <th>Item Id</th>\n",
       "      <th>Rating</th>\n",
       "      <th>Joke</th>\n",
       "    </tr>\n",
       "  </thead>\n",
       "  <tbody>\n",
       "    <tr>\n",
       "      <th>0</th>\n",
       "      <td>1</td>\n",
       "      <td>5</td>\n",
       "      <td>0.219</td>\n",
       "      <td>&lt;p&gt;Q. What&amp;#039;s O. J. Simpson&amp;#039;s web add...</td>\n",
       "    </tr>\n",
       "    <tr>\n",
       "      <th>1</th>\n",
       "      <td>2</td>\n",
       "      <td>5</td>\n",
       "      <td>-9.688</td>\n",
       "      <td>&lt;p&gt;Q. What&amp;#039;s O. J. Simpson&amp;#039;s web add...</td>\n",
       "    </tr>\n",
       "    <tr>\n",
       "      <th>2</th>\n",
       "      <td>3</td>\n",
       "      <td>5</td>\n",
       "      <td>-9.844</td>\n",
       "      <td>&lt;p&gt;Q. What&amp;#039;s O. J. Simpson&amp;#039;s web add...</td>\n",
       "    </tr>\n",
       "    <tr>\n",
       "      <th>3</th>\n",
       "      <td>4</td>\n",
       "      <td>5</td>\n",
       "      <td>-5.812</td>\n",
       "      <td>&lt;p&gt;Q. What&amp;#039;s O. J. Simpson&amp;#039;s web add...</td>\n",
       "    </tr>\n",
       "    <tr>\n",
       "      <th>4</th>\n",
       "      <td>5</td>\n",
       "      <td>5</td>\n",
       "      <td>6.906</td>\n",
       "      <td>&lt;p&gt;Q. What&amp;#039;s O. J. Simpson&amp;#039;s web add...</td>\n",
       "    </tr>\n",
       "  </tbody>\n",
       "</table>\n",
       "</div>"
      ],
      "text/plain": [
       "   User Id  Item Id  Rating                                               Joke\n",
       "0        1        5   0.219  <p>Q. What&#039;s O. J. Simpson&#039;s web add...\n",
       "1        2        5  -9.688  <p>Q. What&#039;s O. J. Simpson&#039;s web add...\n",
       "2        3        5  -9.844  <p>Q. What&#039;s O. J. Simpson&#039;s web add...\n",
       "3        4        5  -5.812  <p>Q. What&#039;s O. J. Simpson&#039;s web add...\n",
       "4        5        5   6.906  <p>Q. What&#039;s O. J. Simpson&#039;s web add..."
      ]
     },
     "execution_count": 13,
     "metadata": {},
     "output_type": "execute_result"
    }
   ],
   "source": [
    "df.head()"
   ]
  },
  {
   "cell_type": "markdown",
   "metadata": {},
   "source": [
    "# Simple Recommender"
   ]
  },
  {
   "cell_type": "code",
   "execution_count": 14,
   "metadata": {},
   "outputs": [
    {
     "data": {
      "text/html": [
       "<div>\n",
       "<style>\n",
       "    .dataframe thead tr:only-child th {\n",
       "        text-align: right;\n",
       "    }\n",
       "\n",
       "    .dataframe thead th {\n",
       "        text-align: left;\n",
       "    }\n",
       "\n",
       "    .dataframe tbody tr th {\n",
       "        vertical-align: top;\n",
       "    }\n",
       "</style>\n",
       "<table border=\"1\" class=\"dataframe\">\n",
       "  <thead>\n",
       "    <tr style=\"text-align: right;\">\n",
       "      <th></th>\n",
       "      <th>Rating</th>\n",
       "    </tr>\n",
       "    <tr>\n",
       "      <th>Item Id</th>\n",
       "      <th></th>\n",
       "    </tr>\n",
       "  </thead>\n",
       "  <tbody>\n",
       "    <tr>\n",
       "      <th>5</th>\n",
       "      <td>-1.756331</td>\n",
       "    </tr>\n",
       "    <tr>\n",
       "      <th>7</th>\n",
       "      <td>-1.809230</td>\n",
       "    </tr>\n",
       "    <tr>\n",
       "      <th>8</th>\n",
       "      <td>-0.672010</td>\n",
       "    </tr>\n",
       "    <tr>\n",
       "      <th>13</th>\n",
       "      <td>-0.590224</td>\n",
       "    </tr>\n",
       "    <tr>\n",
       "      <th>15</th>\n",
       "      <td>-1.377098</td>\n",
       "    </tr>\n",
       "  </tbody>\n",
       "</table>\n",
       "</div>"
      ],
      "text/plain": [
       "           Rating\n",
       "Item Id          \n",
       "5       -1.756331\n",
       "7       -1.809230\n",
       "8       -0.672010\n",
       "13      -0.590224\n",
       "15      -1.377098"
      ]
     },
     "execution_count": 14,
     "metadata": {},
     "output_type": "execute_result"
    }
   ],
   "source": [
    "C = df['Rating'].mean()\n",
    "t = df.groupby('Item Id')['User Id'].count()\n",
    "s = df.groupby('Item Id')['Rating'].mean()\n",
    "\n",
    "t1 = pd.DataFrame(t)\n",
    "s1 = pd.DataFrame(s)\n",
    "t1.head()\n",
    "s1.head()"
   ]
  },
  {
   "cell_type": "code",
   "execution_count": 15,
   "metadata": {},
   "outputs": [
    {
     "name": "stdout",
     "output_type": "stream",
     "text": [
      "12581.707142857143\n"
     ]
    }
   ],
   "source": [
    "m = float(t.mean())\n",
    "print(m)"
   ]
  },
  {
   "cell_type": "code",
   "execution_count": 16,
   "metadata": {},
   "outputs": [
    {
     "data": {
      "text/html": [
       "<div>\n",
       "<style>\n",
       "    .dataframe thead tr:only-child th {\n",
       "        text-align: right;\n",
       "    }\n",
       "\n",
       "    .dataframe thead th {\n",
       "        text-align: left;\n",
       "    }\n",
       "\n",
       "    .dataframe tbody tr th {\n",
       "        vertical-align: top;\n",
       "    }\n",
       "</style>\n",
       "<table border=\"1\" class=\"dataframe\">\n",
       "  <thead>\n",
       "    <tr style=\"text-align: right;\">\n",
       "      <th></th>\n",
       "      <th>Rating</th>\n",
       "      <th>Item Id</th>\n",
       "    </tr>\n",
       "    <tr>\n",
       "      <th>Item Id</th>\n",
       "      <th></th>\n",
       "      <th></th>\n",
       "    </tr>\n",
       "  </thead>\n",
       "  <tbody>\n",
       "    <tr>\n",
       "      <th>5</th>\n",
       "      <td>-1.756331</td>\n",
       "      <td>5</td>\n",
       "    </tr>\n",
       "    <tr>\n",
       "      <th>7</th>\n",
       "      <td>-1.809230</td>\n",
       "      <td>7</td>\n",
       "    </tr>\n",
       "    <tr>\n",
       "      <th>8</th>\n",
       "      <td>-0.672010</td>\n",
       "      <td>8</td>\n",
       "    </tr>\n",
       "    <tr>\n",
       "      <th>13</th>\n",
       "      <td>-0.590224</td>\n",
       "      <td>13</td>\n",
       "    </tr>\n",
       "    <tr>\n",
       "      <th>15</th>\n",
       "      <td>-1.377098</td>\n",
       "      <td>15</td>\n",
       "    </tr>\n",
       "  </tbody>\n",
       "</table>\n",
       "</div>"
      ],
      "text/plain": [
       "           Rating  Item Id\n",
       "Item Id                   \n",
       "5       -1.756331        5\n",
       "7       -1.809230        7\n",
       "8       -0.672010        8\n",
       "13      -0.590224       13\n",
       "15      -1.377098       15"
      ]
     },
     "execution_count": 16,
     "metadata": {},
     "output_type": "execute_result"
    }
   ],
   "source": [
    "t1['Item Id'] = t1.index\n",
    "s1['Item Id'] = s1.index\n",
    "t1.columns = ['User Id Count', 'Item Id']\n",
    "t1.head()\n",
    "s.columns = ['Avg Ratings', 'Item Id']\n",
    "s1.head()"
   ]
  },
  {
   "cell_type": "code",
   "execution_count": 17,
   "metadata": {},
   "outputs": [
    {
     "data": {
      "text/plain": [
       "(1761439, 6)"
      ]
     },
     "execution_count": 17,
     "metadata": {},
     "output_type": "execute_result"
    }
   ],
   "source": [
    "df = pd.merge(df, t1, on='Item Id')\n",
    "df = pd.merge(df, s1, on='Item Id' )\n",
    "df.head()\n",
    "df.shape"
   ]
  },
  {
   "cell_type": "code",
   "execution_count": 18,
   "metadata": {},
   "outputs": [],
   "source": [
    "q_df = df.copy().loc[df['User Id Count'] >= m]"
   ]
  },
  {
   "cell_type": "code",
   "execution_count": 19,
   "metadata": {},
   "outputs": [
    {
     "data": {
      "text/plain": [
       "(1088590, 6)"
      ]
     },
     "execution_count": 19,
     "metadata": {},
     "output_type": "execute_result"
    }
   ],
   "source": [
    "q_df.shape"
   ]
  },
  {
   "cell_type": "code",
   "execution_count": 20,
   "metadata": {},
   "outputs": [
    {
     "data": {
      "text/html": [
       "<div>\n",
       "<style>\n",
       "    .dataframe thead tr:only-child th {\n",
       "        text-align: right;\n",
       "    }\n",
       "\n",
       "    .dataframe thead th {\n",
       "        text-align: left;\n",
       "    }\n",
       "\n",
       "    .dataframe tbody tr th {\n",
       "        vertical-align: top;\n",
       "    }\n",
       "</style>\n",
       "<table border=\"1\" class=\"dataframe\">\n",
       "  <thead>\n",
       "    <tr style=\"text-align: right;\">\n",
       "      <th></th>\n",
       "      <th>User Id</th>\n",
       "      <th>Item Id</th>\n",
       "      <th>Rating_x</th>\n",
       "      <th>Joke</th>\n",
       "      <th>User Id Count</th>\n",
       "      <th>Rating_y</th>\n",
       "    </tr>\n",
       "  </thead>\n",
       "  <tbody>\n",
       "    <tr>\n",
       "      <th>661</th>\n",
       "      <td>1</td>\n",
       "      <td>7</td>\n",
       "      <td>-9.281</td>\n",
       "      <td>&lt;p&gt;How many feminists does it take to screw in...</td>\n",
       "      <td>59122</td>\n",
       "      <td>-1.80923</td>\n",
       "    </tr>\n",
       "    <tr>\n",
       "      <th>662</th>\n",
       "      <td>2</td>\n",
       "      <td>7</td>\n",
       "      <td>9.938</td>\n",
       "      <td>&lt;p&gt;How many feminists does it take to screw in...</td>\n",
       "      <td>59122</td>\n",
       "      <td>-1.80923</td>\n",
       "    </tr>\n",
       "    <tr>\n",
       "      <th>663</th>\n",
       "      <td>3</td>\n",
       "      <td>7</td>\n",
       "      <td>-9.844</td>\n",
       "      <td>&lt;p&gt;How many feminists does it take to screw in...</td>\n",
       "      <td>59122</td>\n",
       "      <td>-1.80923</td>\n",
       "    </tr>\n",
       "    <tr>\n",
       "      <th>664</th>\n",
       "      <td>4</td>\n",
       "      <td>7</td>\n",
       "      <td>-4.500</td>\n",
       "      <td>&lt;p&gt;How many feminists does it take to screw in...</td>\n",
       "      <td>59122</td>\n",
       "      <td>-1.80923</td>\n",
       "    </tr>\n",
       "    <tr>\n",
       "      <th>665</th>\n",
       "      <td>5</td>\n",
       "      <td>7</td>\n",
       "      <td>4.750</td>\n",
       "      <td>&lt;p&gt;How many feminists does it take to screw in...</td>\n",
       "      <td>59122</td>\n",
       "      <td>-1.80923</td>\n",
       "    </tr>\n",
       "  </tbody>\n",
       "</table>\n",
       "</div>"
      ],
      "text/plain": [
       "     User Id  Item Id  Rating_x  \\\n",
       "661        1        7    -9.281   \n",
       "662        2        7     9.938   \n",
       "663        3        7    -9.844   \n",
       "664        4        7    -4.500   \n",
       "665        5        7     4.750   \n",
       "\n",
       "                                                  Joke  User Id Count  \\\n",
       "661  <p>How many feminists does it take to screw in...          59122   \n",
       "662  <p>How many feminists does it take to screw in...          59122   \n",
       "663  <p>How many feminists does it take to screw in...          59122   \n",
       "664  <p>How many feminists does it take to screw in...          59122   \n",
       "665  <p>How many feminists does it take to screw in...          59122   \n",
       "\n",
       "     Rating_y  \n",
       "661  -1.80923  \n",
       "662  -1.80923  \n",
       "663  -1.80923  \n",
       "664  -1.80923  \n",
       "665  -1.80923  "
      ]
     },
     "execution_count": 20,
     "metadata": {},
     "output_type": "execute_result"
    }
   ],
   "source": [
    "q_df.head()"
   ]
  },
  {
   "cell_type": "code",
   "execution_count": 21,
   "metadata": {
    "collapsed": true
   },
   "outputs": [],
   "source": [
    "def weighted_rating(x, m=m, C=C):\n",
    "    v = x['User Id Count']\n",
    "    R = x['Rating_y']\n",
    "    return (v/(v+m)*R) + (m/(m+v)*C)"
   ]
  },
  {
   "cell_type": "code",
   "execution_count": 22,
   "metadata": {},
   "outputs": [
    {
     "data": {
      "text/html": [
       "<div>\n",
       "<style>\n",
       "    .dataframe thead tr:only-child th {\n",
       "        text-align: right;\n",
       "    }\n",
       "\n",
       "    .dataframe thead th {\n",
       "        text-align: left;\n",
       "    }\n",
       "\n",
       "    .dataframe tbody tr th {\n",
       "        vertical-align: top;\n",
       "    }\n",
       "</style>\n",
       "<table border=\"1\" class=\"dataframe\">\n",
       "  <thead>\n",
       "    <tr style=\"text-align: right;\">\n",
       "      <th></th>\n",
       "      <th></th>\n",
       "      <th></th>\n",
       "      <th>Rating_x</th>\n",
       "      <th>User Id</th>\n",
       "    </tr>\n",
       "    <tr>\n",
       "      <th>User Id Count</th>\n",
       "      <th>Rating_y</th>\n",
       "      <th>Item Id</th>\n",
       "      <th></th>\n",
       "      <th></th>\n",
       "    </tr>\n",
       "  </thead>\n",
       "  <tbody>\n",
       "    <tr>\n",
       "      <th>12934</th>\n",
       "      <th>2.370762</th>\n",
       "      <th>121</th>\n",
       "      <td>2.370762</td>\n",
       "      <td>32973.041905</td>\n",
       "    </tr>\n",
       "    <tr>\n",
       "      <th>13077</th>\n",
       "      <th>2.995237</th>\n",
       "      <th>63</th>\n",
       "      <td>2.995237</td>\n",
       "      <td>34862.023170</td>\n",
       "    </tr>\n",
       "    <tr>\n",
       "      <th>14337</th>\n",
       "      <th>2.907676</th>\n",
       "      <th>97</th>\n",
       "      <td>2.907676</td>\n",
       "      <td>34479.743531</td>\n",
       "    </tr>\n",
       "    <tr>\n",
       "      <th>14348</th>\n",
       "      <th>2.801907</th>\n",
       "      <th>111</th>\n",
       "      <td>2.801907</td>\n",
       "      <td>33920.577223</td>\n",
       "    </tr>\n",
       "    <tr>\n",
       "      <th>14399</th>\n",
       "      <th>3.046279</th>\n",
       "      <th>29</th>\n",
       "      <td>3.046279</td>\n",
       "      <td>34359.448642</td>\n",
       "    </tr>\n",
       "  </tbody>\n",
       "</table>\n",
       "</div>"
      ],
      "text/plain": [
       "                                Rating_x       User Id\n",
       "User Id Count Rating_y Item Id                        \n",
       "12934         2.370762 121      2.370762  32973.041905\n",
       "13077         2.995237 63       2.995237  34862.023170\n",
       "14337         2.907676 97       2.907676  34479.743531\n",
       "14348         2.801907 111      2.801907  33920.577223\n",
       "14399         3.046279 29       3.046279  34359.448642"
      ]
     },
     "execution_count": 22,
     "metadata": {},
     "output_type": "execute_result"
    }
   ],
   "source": [
    "q_df1 = q_df.pivot_table(values=None, index=['User Id Count', 'Rating_y', 'Item Id'])\n",
    "q_df1.head()"
   ]
  },
  {
   "cell_type": "code",
   "execution_count": 23,
   "metadata": {},
   "outputs": [],
   "source": [
    "q_df2 = q_df1.reset_index()"
   ]
  },
  {
   "cell_type": "code",
   "execution_count": 24,
   "metadata": {},
   "outputs": [
    {
     "data": {
      "text/html": [
       "<div>\n",
       "<style>\n",
       "    .dataframe thead tr:only-child th {\n",
       "        text-align: right;\n",
       "    }\n",
       "\n",
       "    .dataframe thead th {\n",
       "        text-align: left;\n",
       "    }\n",
       "\n",
       "    .dataframe tbody tr th {\n",
       "        vertical-align: top;\n",
       "    }\n",
       "</style>\n",
       "<table border=\"1\" class=\"dataframe\">\n",
       "  <thead>\n",
       "    <tr style=\"text-align: right;\">\n",
       "      <th></th>\n",
       "      <th>User Id Count</th>\n",
       "      <th>Rating_y</th>\n",
       "      <th>Item Id</th>\n",
       "      <th>Rating_x</th>\n",
       "      <th>User Id</th>\n",
       "    </tr>\n",
       "  </thead>\n",
       "  <tbody>\n",
       "    <tr>\n",
       "      <th>0</th>\n",
       "      <td>12934</td>\n",
       "      <td>2.370762</td>\n",
       "      <td>121</td>\n",
       "      <td>2.370762</td>\n",
       "      <td>32973.041905</td>\n",
       "    </tr>\n",
       "    <tr>\n",
       "      <th>1</th>\n",
       "      <td>13077</td>\n",
       "      <td>2.995237</td>\n",
       "      <td>63</td>\n",
       "      <td>2.995237</td>\n",
       "      <td>34862.023170</td>\n",
       "    </tr>\n",
       "    <tr>\n",
       "      <th>2</th>\n",
       "      <td>14337</td>\n",
       "      <td>2.907676</td>\n",
       "      <td>97</td>\n",
       "      <td>2.907676</td>\n",
       "      <td>34479.743531</td>\n",
       "    </tr>\n",
       "    <tr>\n",
       "      <th>3</th>\n",
       "      <td>14348</td>\n",
       "      <td>2.801907</td>\n",
       "      <td>111</td>\n",
       "      <td>2.801907</td>\n",
       "      <td>33920.577223</td>\n",
       "    </tr>\n",
       "    <tr>\n",
       "      <th>4</th>\n",
       "      <td>14399</td>\n",
       "      <td>3.046279</td>\n",
       "      <td>29</td>\n",
       "      <td>3.046279</td>\n",
       "      <td>34359.448642</td>\n",
       "    </tr>\n",
       "  </tbody>\n",
       "</table>\n",
       "</div>"
      ],
      "text/plain": [
       "   User Id Count  Rating_y  Item Id  Rating_x       User Id\n",
       "0          12934  2.370762      121  2.370762  32973.041905\n",
       "1          13077  2.995237       63  2.995237  34862.023170\n",
       "2          14337  2.907676       97  2.907676  34479.743531\n",
       "3          14348  2.801907      111  2.801907  33920.577223\n",
       "4          14399  3.046279       29  3.046279  34359.448642"
      ]
     },
     "execution_count": 24,
     "metadata": {},
     "output_type": "execute_result"
    }
   ],
   "source": [
    "q_df2.head()"
   ]
  },
  {
   "cell_type": "code",
   "execution_count": 25,
   "metadata": {},
   "outputs": [],
   "source": [
    "q_df2.drop(['Rating_x','User Id'], inplace=True, axis=1)"
   ]
  },
  {
   "cell_type": "code",
   "execution_count": 26,
   "metadata": {},
   "outputs": [
    {
     "data": {
      "text/html": [
       "<div>\n",
       "<style>\n",
       "    .dataframe thead tr:only-child th {\n",
       "        text-align: right;\n",
       "    }\n",
       "\n",
       "    .dataframe thead th {\n",
       "        text-align: left;\n",
       "    }\n",
       "\n",
       "    .dataframe tbody tr th {\n",
       "        vertical-align: top;\n",
       "    }\n",
       "</style>\n",
       "<table border=\"1\" class=\"dataframe\">\n",
       "  <thead>\n",
       "    <tr style=\"text-align: right;\">\n",
       "      <th></th>\n",
       "      <th>User Id Count</th>\n",
       "      <th>Rating_y</th>\n",
       "      <th>Item Id</th>\n",
       "    </tr>\n",
       "  </thead>\n",
       "  <tbody>\n",
       "    <tr>\n",
       "      <th>0</th>\n",
       "      <td>12934</td>\n",
       "      <td>2.370762</td>\n",
       "      <td>121</td>\n",
       "    </tr>\n",
       "    <tr>\n",
       "      <th>1</th>\n",
       "      <td>13077</td>\n",
       "      <td>2.995237</td>\n",
       "      <td>63</td>\n",
       "    </tr>\n",
       "    <tr>\n",
       "      <th>2</th>\n",
       "      <td>14337</td>\n",
       "      <td>2.907676</td>\n",
       "      <td>97</td>\n",
       "    </tr>\n",
       "    <tr>\n",
       "      <th>3</th>\n",
       "      <td>14348</td>\n",
       "      <td>2.801907</td>\n",
       "      <td>111</td>\n",
       "    </tr>\n",
       "    <tr>\n",
       "      <th>4</th>\n",
       "      <td>14399</td>\n",
       "      <td>3.046279</td>\n",
       "      <td>29</td>\n",
       "    </tr>\n",
       "  </tbody>\n",
       "</table>\n",
       "</div>"
      ],
      "text/plain": [
       "   User Id Count  Rating_y  Item Id\n",
       "0          12934  2.370762      121\n",
       "1          13077  2.995237       63\n",
       "2          14337  2.907676       97\n",
       "3          14348  2.801907      111\n",
       "4          14399  3.046279       29"
      ]
     },
     "execution_count": 26,
     "metadata": {},
     "output_type": "execute_result"
    }
   ],
   "source": [
    "q_df2.head()"
   ]
  },
  {
   "cell_type": "code",
   "execution_count": 27,
   "metadata": {},
   "outputs": [],
   "source": [
    "q_df2['score'] = q_df2.apply(weighted_rating, axis=1)"
   ]
  },
  {
   "cell_type": "code",
   "execution_count": 28,
   "metadata": {
    "collapsed": true
   },
   "outputs": [],
   "source": [
    "q_df2 = q_df2.sort_values('score', ascending=False)"
   ]
  },
  {
   "cell_type": "code",
   "execution_count": 29,
   "metadata": {},
   "outputs": [],
   "source": [
    "q_df2 = pd.merge(q_df2, df2, on='Item Id')"
   ]
  },
  {
   "cell_type": "code",
   "execution_count": 30,
   "metadata": {},
   "outputs": [
    {
     "data": {
      "text/html": [
       "<div>\n",
       "<style>\n",
       "    .dataframe thead tr:only-child th {\n",
       "        text-align: right;\n",
       "    }\n",
       "\n",
       "    .dataframe thead th {\n",
       "        text-align: left;\n",
       "    }\n",
       "\n",
       "    .dataframe tbody tr th {\n",
       "        vertical-align: top;\n",
       "    }\n",
       "</style>\n",
       "<table border=\"1\" class=\"dataframe\">\n",
       "  <thead>\n",
       "    <tr style=\"text-align: right;\">\n",
       "      <th></th>\n",
       "      <th>User Id Count</th>\n",
       "      <th>Rating_y</th>\n",
       "      <th>Item Id</th>\n",
       "      <th>score</th>\n",
       "      <th>Joke</th>\n",
       "    </tr>\n",
       "  </thead>\n",
       "  <tbody>\n",
       "    <tr>\n",
       "      <th>0</th>\n",
       "      <td>23102</td>\n",
       "      <td>3.714381</td>\n",
       "      <td>53</td>\n",
       "      <td>2.975431</td>\n",
       "      <td>&lt;p&gt;One Sunday morning William burst into the l...</td>\n",
       "    </tr>\n",
       "    <tr>\n",
       "      <th>1</th>\n",
       "      <td>25996</td>\n",
       "      <td>3.606506</td>\n",
       "      <td>89</td>\n",
       "      <td>2.958172</td>\n",
       "      <td>&lt;p&gt;A radio conversation between a US naval shi...</td>\n",
       "    </tr>\n",
       "    <tr>\n",
       "      <th>2</th>\n",
       "      <td>21822</td>\n",
       "      <td>3.711223</td>\n",
       "      <td>105</td>\n",
       "      <td>2.945935</td>\n",
       "      <td>&lt;p&gt;A couple of hunters are out in the woods in...</td>\n",
       "    </tr>\n",
       "    <tr>\n",
       "      <th>3</th>\n",
       "      <td>22519</td>\n",
       "      <td>3.504739</td>\n",
       "      <td>32</td>\n",
       "      <td>2.828661</td>\n",
       "      <td>&lt;p&gt;A man arrives at the gates of heaven. St. P...</td>\n",
       "    </tr>\n",
       "    <tr>\n",
       "      <th>4</th>\n",
       "      <td>20524</td>\n",
       "      <td>3.560305</td>\n",
       "      <td>35</td>\n",
       "      <td>2.822368</td>\n",
       "      <td>&lt;p&gt;An explorer in the deepest Amazon suddenly ...</td>\n",
       "    </tr>\n",
       "    <tr>\n",
       "      <th>5</th>\n",
       "      <td>19509</td>\n",
       "      <td>3.583496</td>\n",
       "      <td>129</td>\n",
       "      <td>2.813126</td>\n",
       "      <td>&lt;p&gt;A group of girlfriends is on vacation when ...</td>\n",
       "    </tr>\n",
       "    <tr>\n",
       "      <th>6</th>\n",
       "      <td>19421</td>\n",
       "      <td>3.505712</td>\n",
       "      <td>72</td>\n",
       "      <td>2.763804</td>\n",
       "      <td>&lt;p&gt;On the first day of college, the Dean addre...</td>\n",
       "    </tr>\n",
       "    <tr>\n",
       "      <th>7</th>\n",
       "      <td>19793</td>\n",
       "      <td>3.422796</td>\n",
       "      <td>104</td>\n",
       "      <td>2.721637</td>\n",
       "      <td>&lt;p&gt;As a pre-med student, I had to take a diffi...</td>\n",
       "    </tr>\n",
       "    <tr>\n",
       "      <th>8</th>\n",
       "      <td>22253</td>\n",
       "      <td>3.337933</td>\n",
       "      <td>106</td>\n",
       "      <td>2.716940</td>\n",
       "      <td>&lt;p&gt;An engineer dies and reports to the pearly ...</td>\n",
       "    </tr>\n",
       "    <tr>\n",
       "      <th>9</th>\n",
       "      <td>25662</td>\n",
       "      <td>3.192799</td>\n",
       "      <td>114</td>\n",
       "      <td>2.674908</td>\n",
       "      <td>&lt;p&gt;Sherlock Holmes and Dr. Watson go on a camp...</td>\n",
       "    </tr>\n",
       "    <tr>\n",
       "      <th>10</th>\n",
       "      <td>15630</td>\n",
       "      <td>3.387269</td>\n",
       "      <td>68</td>\n",
       "      <td>2.598488</td>\n",
       "      <td>&lt;p&gt;A man piloting a hot air balloon discovers ...</td>\n",
       "    </tr>\n",
       "    <tr>\n",
       "      <th>11</th>\n",
       "      <td>16641</td>\n",
       "      <td>3.310934</td>\n",
       "      <td>62</td>\n",
       "      <td>2.582308</td>\n",
       "      <td>&lt;p&gt;A group of managers were given the assignme...</td>\n",
       "    </tr>\n",
       "    <tr>\n",
       "      <th>12</th>\n",
       "      <td>20387</td>\n",
       "      <td>3.175006</td>\n",
       "      <td>127</td>\n",
       "      <td>2.581042</td>\n",
       "      <td>&lt;p&gt;A little boy goes to his dad and asks, &amp;quo...</td>\n",
       "    </tr>\n",
       "    <tr>\n",
       "      <th>13</th>\n",
       "      <td>18380</td>\n",
       "      <td>3.212523</td>\n",
       "      <td>117</td>\n",
       "      <td>2.564812</td>\n",
       "      <td>&lt;p&gt;A man joins a big corporate empire as a tra...</td>\n",
       "    </tr>\n",
       "    <tr>\n",
       "      <th>14</th>\n",
       "      <td>16511</td>\n",
       "      <td>3.273923</td>\n",
       "      <td>50</td>\n",
       "      <td>2.558047</td>\n",
       "      <td>&lt;p&gt;A guy goes into confession and says to the ...</td>\n",
       "    </tr>\n",
       "  </tbody>\n",
       "</table>\n",
       "</div>"
      ],
      "text/plain": [
       "    User Id Count  Rating_y  Item Id     score  \\\n",
       "0           23102  3.714381       53  2.975431   \n",
       "1           25996  3.606506       89  2.958172   \n",
       "2           21822  3.711223      105  2.945935   \n",
       "3           22519  3.504739       32  2.828661   \n",
       "4           20524  3.560305       35  2.822368   \n",
       "5           19509  3.583496      129  2.813126   \n",
       "6           19421  3.505712       72  2.763804   \n",
       "7           19793  3.422796      104  2.721637   \n",
       "8           22253  3.337933      106  2.716940   \n",
       "9           25662  3.192799      114  2.674908   \n",
       "10          15630  3.387269       68  2.598488   \n",
       "11          16641  3.310934       62  2.582308   \n",
       "12          20387  3.175006      127  2.581042   \n",
       "13          18380  3.212523      117  2.564812   \n",
       "14          16511  3.273923       50  2.558047   \n",
       "\n",
       "                                                 Joke  \n",
       "0   <p>One Sunday morning William burst into the l...  \n",
       "1   <p>A radio conversation between a US naval shi...  \n",
       "2   <p>A couple of hunters are out in the woods in...  \n",
       "3   <p>A man arrives at the gates of heaven. St. P...  \n",
       "4   <p>An explorer in the deepest Amazon suddenly ...  \n",
       "5   <p>A group of girlfriends is on vacation when ...  \n",
       "6   <p>On the first day of college, the Dean addre...  \n",
       "7   <p>As a pre-med student, I had to take a diffi...  \n",
       "8   <p>An engineer dies and reports to the pearly ...  \n",
       "9   <p>Sherlock Holmes and Dr. Watson go on a camp...  \n",
       "10  <p>A man piloting a hot air balloon discovers ...  \n",
       "11  <p>A group of managers were given the assignme...  \n",
       "12  <p>A little boy goes to his dad and asks, &quo...  \n",
       "13  <p>A man joins a big corporate empire as a tra...  \n",
       "14  <p>A guy goes into confession and says to the ...  "
      ]
     },
     "execution_count": 30,
     "metadata": {},
     "output_type": "execute_result"
    }
   ],
   "source": [
    "q_df2.head(15)"
   ]
  },
  {
   "cell_type": "code",
   "execution_count": 31,
   "metadata": {},
   "outputs": [
    {
     "data": {
      "text/html": [
       "<div>\n",
       "<style>\n",
       "    .dataframe thead tr:only-child th {\n",
       "        text-align: right;\n",
       "    }\n",
       "\n",
       "    .dataframe thead th {\n",
       "        text-align: left;\n",
       "    }\n",
       "\n",
       "    .dataframe tbody tr th {\n",
       "        vertical-align: top;\n",
       "    }\n",
       "</style>\n",
       "<table border=\"1\" class=\"dataframe\">\n",
       "  <thead>\n",
       "    <tr style=\"text-align: right;\">\n",
       "      <th></th>\n",
       "      <th>User Id Count</th>\n",
       "      <th>Rating_y</th>\n",
       "      <th>Item Id</th>\n",
       "      <th>score</th>\n",
       "      <th>Joke</th>\n",
       "    </tr>\n",
       "  </thead>\n",
       "  <tbody>\n",
       "    <tr>\n",
       "      <th>40</th>\n",
       "      <td>56333</td>\n",
       "      <td>-0.590224</td>\n",
       "      <td>13</td>\n",
       "      <td>-0.186960</td>\n",
       "      <td>&lt;p&gt;They asked the Japanese visitor if they hav...</td>\n",
       "    </tr>\n",
       "    <tr>\n",
       "      <th>41</th>\n",
       "      <td>57720</td>\n",
       "      <td>-0.672010</td>\n",
       "      <td>8</td>\n",
       "      <td>-0.262066</td>\n",
       "      <td>&lt;p&gt;Q. Did you hear about the dyslexic devil wo...</td>\n",
       "    </tr>\n",
       "    <tr>\n",
       "      <th>42</th>\n",
       "      <td>54932</td>\n",
       "      <td>-1.377098</td>\n",
       "      <td>15</td>\n",
       "      <td>-0.818826</td>\n",
       "      <td>&lt;p&gt;Q: What did the blind person say when given...</td>\n",
       "    </tr>\n",
       "    <tr>\n",
       "      <th>43</th>\n",
       "      <td>54150</td>\n",
       "      <td>-1.587044</td>\n",
       "      <td>16</td>\n",
       "      <td>-0.982646</td>\n",
       "      <td>&lt;p&gt;Q. What is orange and sounds like a parrot?...</td>\n",
       "    </tr>\n",
       "    <tr>\n",
       "      <th>44</th>\n",
       "      <td>59122</td>\n",
       "      <td>-1.809230</td>\n",
       "      <td>7</td>\n",
       "      <td>-1.207755</td>\n",
       "      <td>&lt;p&gt;How many feminists does it take to screw in...</td>\n",
       "    </tr>\n",
       "  </tbody>\n",
       "</table>\n",
       "</div>"
      ],
      "text/plain": [
       "    User Id Count  Rating_y  Item Id     score  \\\n",
       "40          56333 -0.590224       13 -0.186960   \n",
       "41          57720 -0.672010        8 -0.262066   \n",
       "42          54932 -1.377098       15 -0.818826   \n",
       "43          54150 -1.587044       16 -0.982646   \n",
       "44          59122 -1.809230        7 -1.207755   \n",
       "\n",
       "                                                 Joke  \n",
       "40  <p>They asked the Japanese visitor if they hav...  \n",
       "41  <p>Q. Did you hear about the dyslexic devil wo...  \n",
       "42  <p>Q: What did the blind person say when given...  \n",
       "43  <p>Q. What is orange and sounds like a parrot?...  \n",
       "44  <p>How many feminists does it take to screw in...  "
      ]
     },
     "execution_count": 31,
     "metadata": {},
     "output_type": "execute_result"
    }
   ],
   "source": [
    "q_df2.tail()"
   ]
  },
  {
   "cell_type": "markdown",
   "metadata": {},
   "source": [
    "# Content Based"
   ]
  },
  {
   "cell_type": "code",
   "execution_count": 32,
   "metadata": {},
   "outputs": [
    {
     "data": {
      "text/plain": [
       "(45, 1077)"
      ]
     },
     "execution_count": 32,
     "metadata": {},
     "output_type": "execute_result"
    }
   ],
   "source": [
    "from sklearn.feature_extraction.text import TfidfVectorizer #Term Frequency-Inverse Document Frequency (TF-IDF) vectors \n",
    "tfidf = TfidfVectorizer(stop_words='english')\n",
    "q_df2['Joke'] = q_df2['Joke'].fillna('')\n",
    "tfidf_matrix = tfidf.fit_transform(q_df2['Joke'])\n",
    "tfidf_matrix.shape"
   ]
  },
  {
   "cell_type": "code",
   "execution_count": 33,
   "metadata": {
    "collapsed": true
   },
   "outputs": [],
   "source": [
    "from sklearn.metrics.pairwise import linear_kernel\n",
    "cosine_sim = linear_kernel(tfidf_matrix, tfidf_matrix)"
   ]
  },
  {
   "cell_type": "code",
   "execution_count": 34,
   "metadata": {
    "collapsed": true
   },
   "outputs": [],
   "source": [
    "indices = pd.Series(q_df2.index, index=q_df2['Item Id']).drop_duplicates()"
   ]
  },
  {
   "cell_type": "code",
   "execution_count": 35,
   "metadata": {},
   "outputs": [],
   "source": [
    "# Function that takes in movie title as input and outputs most similar movies\n",
    "def get_recommendations(title, cosine_sim=cosine_sim):\n",
    "    # Get the index of the movie that matches the title\n",
    "    idx = indices[title]\n",
    "\n",
    "    # Get the pairwsie similarity scores of all movies with that movie\n",
    "    sim_scores = list(enumerate(cosine_sim[idx]))\n",
    "\n",
    "    # Sort the movies based on the similarity scores\n",
    "    sim_scores = sorted(sim_scores, key=lambda x: x[1], reverse=True)\n",
    "\n",
    "    # Get the scores of the 10 most similar movies\n",
    "    sim_scores = sim_scores[1:11]\n",
    "\n",
    "    # Get the movie indices\n",
    "    movie_indices = [i[0] for i in sim_scores]\n",
    "\n",
    "    # Return the top 10 most similar movies\n",
    "    return q_df2['Item Id'].iloc[movie_indices]"
   ]
  },
  {
   "cell_type": "code",
   "execution_count": 40,
   "metadata": {},
   "outputs": [
    {
     "name": "stdout",
     "output_type": "stream",
     "text": [
      "Enter the joke id: 8\n"
     ]
    }
   ],
   "source": [
    "x = input('Enter the joke id: ')\n",
    "x = int(x)"
   ]
  },
  {
   "cell_type": "code",
   "execution_count": 41,
   "metadata": {
    "collapsed": true
   },
   "outputs": [],
   "source": [
    "x1 = get_recommendations(x,cosine_sim)"
   ]
  },
  {
   "cell_type": "code",
   "execution_count": 42,
   "metadata": {},
   "outputs": [
    {
     "data": {
      "text/html": [
       "<div>\n",
       "<style>\n",
       "    .dataframe thead tr:only-child th {\n",
       "        text-align: right;\n",
       "    }\n",
       "\n",
       "    .dataframe thead th {\n",
       "        text-align: left;\n",
       "    }\n",
       "\n",
       "    .dataframe tbody tr th {\n",
       "        vertical-align: top;\n",
       "    }\n",
       "</style>\n",
       "<table border=\"1\" class=\"dataframe\">\n",
       "  <thead>\n",
       "    <tr style=\"text-align: right;\">\n",
       "      <th></th>\n",
       "      <th>Item Id</th>\n",
       "      <th>Joke</th>\n",
       "    </tr>\n",
       "  </thead>\n",
       "  <tbody>\n",
       "    <tr>\n",
       "      <th>0</th>\n",
       "      <td>15</td>\n",
       "      <td>&lt;p&gt;Q: What did the blind person say when given...</td>\n",
       "    </tr>\n",
       "    <tr>\n",
       "      <th>1</th>\n",
       "      <td>68</td>\n",
       "      <td>&lt;p&gt;A man piloting a hot air balloon discovers ...</td>\n",
       "    </tr>\n",
       "    <tr>\n",
       "      <th>2</th>\n",
       "      <td>117</td>\n",
       "      <td>&lt;p&gt;A man joins a big corporate empire as a tra...</td>\n",
       "    </tr>\n",
       "    <tr>\n",
       "      <th>3</th>\n",
       "      <td>50</td>\n",
       "      <td>&lt;p&gt;A guy goes into confession and says to the ...</td>\n",
       "    </tr>\n",
       "    <tr>\n",
       "      <th>4</th>\n",
       "      <td>105</td>\n",
       "      <td>&lt;p&gt;A couple of hunters are out in the woods in...</td>\n",
       "    </tr>\n",
       "    <tr>\n",
       "      <th>5</th>\n",
       "      <td>93</td>\n",
       "      <td>&lt;p&gt;Reaching the end of a job interview, the hu...</td>\n",
       "    </tr>\n",
       "    <tr>\n",
       "      <th>6</th>\n",
       "      <td>148</td>\n",
       "      <td>&lt;p&gt;Recently a teacher, a garbage collector, an...</td>\n",
       "    </tr>\n",
       "    <tr>\n",
       "      <th>7</th>\n",
       "      <td>47</td>\n",
       "      <td>&lt;p&gt;There was an engineer who had an exceptiona...</td>\n",
       "    </tr>\n",
       "    <tr>\n",
       "      <th>8</th>\n",
       "      <td>89</td>\n",
       "      <td>&lt;p&gt;A radio conversation between a US naval shi...</td>\n",
       "    </tr>\n",
       "    <tr>\n",
       "      <th>9</th>\n",
       "      <td>49</td>\n",
       "      <td>&lt;p&gt;Three engineering students were gathered to...</td>\n",
       "    </tr>\n",
       "  </tbody>\n",
       "</table>\n",
       "</div>"
      ],
      "text/plain": [
       "   Item Id                                               Joke\n",
       "0       15  <p>Q: What did the blind person say when given...\n",
       "1       68  <p>A man piloting a hot air balloon discovers ...\n",
       "2      117  <p>A man joins a big corporate empire as a tra...\n",
       "3       50  <p>A guy goes into confession and says to the ...\n",
       "4      105  <p>A couple of hunters are out in the woods in...\n",
       "5       93  <p>Reaching the end of a job interview, the hu...\n",
       "6      148  <p>Recently a teacher, a garbage collector, an...\n",
       "7       47  <p>There was an engineer who had an exceptiona...\n",
       "8       89  <p>A radio conversation between a US naval shi...\n",
       "9       49  <p>Three engineering students were gathered to..."
      ]
     },
     "execution_count": 42,
     "metadata": {},
     "output_type": "execute_result"
    }
   ],
   "source": [
    "x2 = pd.DataFrame(x1, columns=['Item Id'])\n",
    "x3 = pd.merge(x2,df2, on='Item Id')\n",
    "x3"
   ]
  },
  {
   "cell_type": "code",
   "execution_count": null,
   "metadata": {
    "collapsed": true
   },
   "outputs": [],
   "source": []
  }
 ],
 "metadata": {
  "kernelspec": {
   "display_name": "Python 3",
   "language": "python",
   "name": "python3"
  },
  "language_info": {
   "codemirror_mode": {
    "name": "ipython",
    "version": 3
   },
   "file_extension": ".py",
   "mimetype": "text/x-python",
   "name": "python",
   "nbconvert_exporter": "python",
   "pygments_lexer": "ipython3",
   "version": "3.6.3"
  }
 },
 "nbformat": 4,
 "nbformat_minor": 2
}
